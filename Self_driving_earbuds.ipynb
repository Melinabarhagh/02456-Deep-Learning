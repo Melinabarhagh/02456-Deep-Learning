{
  "nbformat": 4,
  "nbformat_minor": 0,
  "metadata": {
    "colab": {
      "name": "Self-driving earbuds.ipynb",
      "provenance": [],
      "collapsed_sections": []
    },
    "kernelspec": {
      "name": "python3",
      "display_name": "Python 3"
    },
    "language_info": {
      "name": "python"
    }
  },
  "cells": [
    {
      "cell_type": "markdown",
      "metadata": {
        "id": "5rUuYSafRX0X"
      },
      "source": [
        "\n",
        "#Import packages"
      ]
    },
    {
      "cell_type": "code",
      "metadata": {
        "id": "tLRSoUaGnqXn"
      },
      "source": [
        "# First time installs\n",
        "# !pip install akida\n",
        "# !pip install cnn2snn\n",
        "# !pip install akida-models\n",
        "\n",
        "# Import packages\n",
        "import os\n",
        "import numpy as np\n",
        "import pandas as pd\n",
        "import matplotlib.pyplot as plt\n",
        "import tensorflow as tf\n",
        "import librosa\n",
        "import librosa.display\n",
        "import sklearn\n",
        "from tensorflow import keras\n",
        "from tensorflow.keras import layers\n",
        "from sklearn.model_selection import train_test_split\n",
        "from cnn2snn import check_model_compatibility, quantize, quantize_layer, convert"
      ],
      "execution_count": null,
      "outputs": []
    },
    {
      "cell_type": "markdown",
      "metadata": {
        "id": "HzYr03e8Rb0E"
      },
      "source": [
        "#Connect to Google Drive"
      ]
    },
    {
      "cell_type": "code",
      "metadata": {
        "colab": {
          "base_uri": "https://localhost:8080/"
        },
        "id": "P-Na1ajmfpNt",
        "outputId": "7dadd601-6320-4024-8f74-3ed70085bcdc"
      },
      "source": [
        "# Connect to google drive\n",
        "from google.colab import drive\n",
        "drive.mount('/content/drive', force_remount = True)"
      ],
      "execution_count": null,
      "outputs": [
        {
          "output_type": "stream",
          "name": "stdout",
          "text": [
            "Mounted at /content/drive\n"
          ]
        }
      ]
    },
    {
      "cell_type": "code",
      "metadata": {
        "colab": {
          "base_uri": "https://localhost:8080/"
        },
        "id": "DpexVXbAgjrk",
        "outputId": "39c274b0-f1a0-42eb-b7d2-d8922f1eccd7"
      },
      "source": [
        "# SET PATH HERE\n",
        "%cd /content/drive/My Drive/DL Project/Polly_samples_wav\n"
      ],
      "execution_count": null,
      "outputs": [
        {
          "output_type": "stream",
          "name": "stdout",
          "text": [
            "/content/drive/My Drive/DL Project/Polly_samples_wav\n"
          ]
        }
      ]
    },
    {
      "cell_type": "markdown",
      "metadata": {
        "id": "DRHHyRonRf28"
      },
      "source": [
        "#Reading and pre-proccesing data"
      ]
    },
    {
      "cell_type": "code",
      "metadata": {
        "id": "IV9lqzXgrMqz"
      },
      "source": [
        "def return_mfcc(path):\n",
        "  NUM_SEC = 2\n",
        "  signal, sr = librosa.load(path)\n",
        "\n",
        "  # truncate to NUM_SEC seconds\n",
        "  if len(signal) > NUM_SEC*sr:\n",
        "    signal = signal[0:NUM_SEC*sr]\n",
        "  elif len(signal) < NUM_SEC*sr:\n",
        "    signal = np.pad(signal, (0,NUM_SEC*sr-len(signal)))\n",
        "\n",
        "  mfccs = librosa.feature.mfcc(y=signal, sr=sr, n_mfcc=13,  win_length=750, hop_length=200)\n",
        "\n",
        "  return mfccs\n"
      ],
      "execution_count": null,
      "outputs": []
    },
    {
      "cell_type": "code",
      "metadata": {
        "colab": {
          "base_uri": "https://localhost:8080/"
        },
        "id": "qcS34-81M0tA",
        "outputId": "e427fa53-e0fc-470b-ce64-ea93436a292e"
      },
      "source": [
        "# Read all classes using folder names\n",
        "classes = [d for d in os.listdir('.') if os.path.isdir(d)]\n",
        "\n",
        "num_samples = 0\n",
        "for c in classes:\n",
        "  num_samples += len(os.listdir(c))\n",
        "\n",
        "print(\"Number of samples = \", num_samples)"
      ],
      "execution_count": null,
      "outputs": [
        {
          "output_type": "stream",
          "name": "stdout",
          "text": [
            "Number of samples =  800\n"
          ]
        }
      ]
    },
    {
      "cell_type": "code",
      "metadata": {
        "id": "e0mrBRtYgnMK"
      },
      "source": [
        "# X & Y DATA\n",
        "\n",
        "X = np.empty((num_samples,13,221))\n",
        "Y = np.empty(num_samples)\n",
        "\n",
        "sample_no = 0\n",
        "class_no = 1\n",
        "\n",
        "for c in classes:\n",
        "  filelist = os.listdir(c)\n",
        "  Y[sample_no:sample_no+len(filelist)] = class_no*np.ones(len(filelist))\n",
        "  class_no += 1\n",
        "\n",
        "  for f in filelist:\n",
        "    path = os.path.join(c, f)\n",
        "    mfcc = return_mfcc(path)\n",
        "\n",
        "    # insert into matrix X\n",
        "    X[sample_no] = mfcc\n",
        "    sample_no += 1"
      ],
      "execution_count": null,
      "outputs": []
    },
    {
      "cell_type": "code",
      "metadata": {
        "colab": {
          "base_uri": "https://localhost:8080/",
          "height": 269
        },
        "id": "o1vTtlzubemK",
        "outputId": "fda19544-89b5-46e4-f9ec-8faecd7d1c99"
      },
      "source": [
        "sr = 22050\n",
        "librosa.display.specshow(X[199], sr=sr)\n"
      ],
      "execution_count": null,
      "outputs": [
        {
          "output_type": "execute_result",
          "data": {
            "text/plain": [
              "<matplotlib.collections.QuadMesh at 0x7f1782d195d0>"
            ]
          },
          "metadata": {},
          "execution_count": 7
        },
        {
          "output_type": "display_data",
          "data": {
            "image/png": "[encoded data removed]",
            "text/plain": [
              "<Figure size 432x288 with 1 Axes>"
            ]
          },
          "metadata": {}
        }
      ]
    },
    {
      "cell_type": "markdown",
      "metadata": {
        "id": "dTYbu0AER7ST"
      },
      "source": [
        "#Split data into training and test data"
      ]
    },
    {
      "cell_type": "code",
      "metadata": {
        "id": "2qeMmKGBSHyl"
      },
      "source": [
        "X_train, X_test, Y_train, Y_test = train_test_split(X, Y, test_size = 0.2, random_state = 1)\n",
        "\n",
        "input_length = X_train[0].shape[0]\n",
        "\n",
        "train_dataset = tf.data.Dataset.from_tensor_slices((X_train, Y_train))\n",
        "validation_dataset = tf.data.Dataset.from_tensor_slices((X_test, Y_test))\n",
        "\n",
        "x_train = X_train.astype('uint8')\n",
        "x_test = X_test.astype('uint8')\n",
        "\n",
        "x_train = X_train.reshape(640, 13, 221, 1)\n",
        "x_test = X_test.reshape(160, 13, 221, 1)\n",
        "\n",
        "\n",
        "# Set aside raw test data\n",
        "raw_x_test = X_test\n",
        "raw_y_test = Y_test\n",
        "\n",
        "\n",
        "# Rescale data\n",
        "a = 255\n",
        "b = 0\n",
        "input_scaling = (a, b)\n",
        "x_train = x_train.astype('float32')\n",
        "x_test = x_test.astype('float32')\n",
        "x_train = (x_train - b) / a\n",
        "x_test = (x_test - b) / a"
      ],
      "execution_count": null,
      "outputs": []
    },
    {
      "cell_type": "markdown",
      "metadata": {
        "id": "erVFqqidTChp"
      },
      "source": [
        "#Modeling\n",
        "\n",
        "## Scaling MFCC features\n",
        "> shows how the scaled data used for modeling looks compared to the original mfcc"
      ]
    },
    {
      "cell_type": "code",
      "metadata": {
        "id": "e8S_oOXzidD_"
      },
      "source": [
        "X_train_scaled = np.empty((X_train.shape[0], 13, 221))\n",
        "X_test_scaled = np.empty((X_test.shape[0], 13, 221))\n",
        "\n",
        "for i in range(X_train.shape[0]):\n",
        "  X_train_scaled[i] = sklearn.preprocessing.scale(X_train[i], axis=1)\n",
        "\n",
        "for i in range(X_test.shape[0]):\n",
        "  X_test_scaled[i] = sklearn.preprocessing.scale(X_test[i], axis=1)\n"
      ],
      "execution_count": null,
      "outputs": []
    },
    {
      "cell_type": "code",
      "metadata": {
        "colab": {
          "base_uri": "https://localhost:8080/",
          "height": 619
        },
        "id": "iuC6RYnel_yz",
        "outputId": "645abade-d22a-4ecc-9c48-ba3982b8ff24"
      },
      "source": [
        "plt.figure(figsize=(20, 10))\n",
        "librosa.display.specshow(X_train_scaled[200], \n",
        "                         sr=22050)\n",
        "plt.colorbar(format=\"%+2.f\")\n",
        "\n",
        "plt.xlabel(\"Window\",fontsize=40)\n",
        "plt.ylabel(\"MFCC\",fontsize=40)\n",
        "plt.show()\n"
      ],
      "execution_count": null,
      "outputs": [
        {
          "output_type": "display_data",
          "data": {
            "image/png": "[encoded data removed]",
            "text/plain": [
              "<Figure size 1440x720 with 2 Axes>"
            ]
          },
          "metadata": {
            "needs_background": "light"
          }
        }
      ]
    },
    {
      "cell_type": "markdown",
      "metadata": {
        "id": "sXNVs99PmFge"
      },
      "source": [
        "# Model definition"
      ]
    },
    {
      "cell_type": "markdown",
      "source": [
        "### Functions to show training loss"
      ],
      "metadata": {
        "id": "wUT2oDv49bMS"
      }
    },
    {
      "cell_type": "code",
      "source": [
        "class LossHistory(keras.callbacks.Callback):\n",
        "    def on_train_begin(self, logs={}):\n",
        "        self.losses = []\n",
        "\n",
        "    def on_batch_end(self, batch, logs={}):\n",
        "        self.losses.append(logs.get('loss'))\n"
      ],
      "metadata": {
        "id": "GxAg9nlF9T5G"
      },
      "execution_count": null,
      "outputs": []
    },
    {
      "cell_type": "code",
      "source": [
        "\n",
        "def PlotLoss(Loss, model):\n",
        "  plt.figure(figsize=(20, 10))\n",
        "  loss = Loss\n",
        "  plt.plot(loss) \n",
        "  plt.title('CrossEntropy Loss for the ' + str(model)) \n",
        "  plt.xlabel(\"Iteration\",fontsize=32)\n",
        "  plt.ylabel(\"Loss\",fontsize=32)\n"
      ],
      "metadata": {
        "id": "4s372xWvBhiZ"
      },
      "execution_count": null,
      "outputs": []
    },
    {
      "cell_type": "markdown",
      "source": [
        "### CNN model"
      ],
      "metadata": {
        "id": "RZbJINdK9gvb"
      }
    },
    {
      "cell_type": "code",
      "metadata": {
        "colab": {
          "base_uri": "https://localhost:8080/"
        },
        "id": "igwq1qJIxOmE",
        "outputId": "7fa3074e-d2c5-40ef-efa4-e0b17e69cfd5"
      },
      "source": [
        "model_keras = keras.models.Sequential([\n",
        "    layers.Conv2D(filters=32, kernel_size=3, input_shape=(13, 221, 1)),\n",
        "    layers.MaxPool2D(),\n",
        "    layers.BatchNormalization(),\n",
        "    layers.ReLU(),\n",
        "    layers.Conv2D(filters=64, kernel_size=3, padding='same'),\n",
        "    layers.BatchNormalization(),\n",
        "    layers.ReLU(),\n",
        "    layers.SeparableConv2D(filters=32, kernel_size=3, padding='same'),\n",
        "    layers.MaxPool2D(padding='same'),\n",
        "    layers.BatchNormalization(),\n",
        "    layers.ReLU(),\n",
        "    layers.Flatten(),\n",
        "    layers.Dense(10),\n",
        "    layers.Softmax()\n",
        "], 'EarBuds')\n",
        "\n",
        "model_keras.summary()"
      ],
      "execution_count": null,
      "outputs": [
        {
          "output_type": "stream",
          "name": "stdout",
          "text": [
            "Model: \"EarBuds\"\n",
            "_________________________________________________________________\n",
            "Layer (type)                 Output Shape              Param #   \n",
            "=================================================================\n",
            "conv2d_2 (Conv2D)            (None, 11, 219, 32)       320       \n",
            "_________________________________________________________________\n",
            "max_pooling2d_2 (MaxPooling2 (None, 5, 109, 32)        0         \n",
            "_________________________________________________________________\n",
            "batch_normalization_3 (Batch (None, 5, 109, 32)        128       \n",
            "_________________________________________________________________\n",
            "re_lu_3 (ReLU)               (None, 5, 109, 32)        0         \n",
            "_________________________________________________________________\n",
            "conv2d_3 (Conv2D)            (None, 5, 109, 64)        18496     \n",
            "_________________________________________________________________\n",
            "batch_normalization_4 (Batch (None, 5, 109, 64)        256       \n",
            "_________________________________________________________________\n",
            "re_lu_4 (ReLU)               (None, 5, 109, 64)        0         \n",
            "_________________________________________________________________\n",
            "separable_conv2d_1 (Separabl (None, 5, 109, 32)        2656      \n",
            "_________________________________________________________________\n",
            "max_pooling2d_3 (MaxPooling2 (None, 3, 55, 32)         0         \n",
            "_________________________________________________________________\n",
            "batch_normalization_5 (Batch (None, 3, 55, 32)         128       \n",
            "_________________________________________________________________\n",
            "re_lu_5 (ReLU)               (None, 3, 55, 32)         0         \n",
            "_________________________________________________________________\n",
            "flatten_1 (Flatten)          (None, 5280)              0         \n",
            "_________________________________________________________________\n",
            "dense_1 (Dense)              (None, 10)                52810     \n",
            "_________________________________________________________________\n",
            "softmax_1 (Softmax)          (None, 10)                0         \n",
            "=================================================================\n",
            "Total params: 74,794\n",
            "Trainable params: 74,538\n",
            "Non-trainable params: 256\n",
            "_________________________________________________________________\n"
          ]
        }
      ]
    },
    {
      "cell_type": "markdown",
      "source": [
        "# Check if model is compatible with Akida"
      ],
      "metadata": {
        "id": "DQzwN36v37zt"
      }
    },
    {
      "cell_type": "code",
      "metadata": {
        "colab": {
          "base_uri": "https://localhost:8080/"
        },
        "id": "GOQpmogNxqkC",
        "outputId": "0fd90176-4246-44b0-f824-1181c021776c"
      },
      "source": [
        "print(\"Model compatible for Akida conversion:\", check_model_compatibility(model_keras))"
      ],
      "execution_count": null,
      "outputs": [
        {
          "output_type": "stream",
          "name": "stdout",
          "text": [
            "Model compatible for Akida conversion: True\n"
          ]
        }
      ]
    },
    {
      "cell_type": "markdown",
      "metadata": {
        "id": "NkRgBGXdsugj"
      },
      "source": [
        "# Optimizer"
      ]
    },
    {
      "cell_type": "code",
      "metadata": {
        "colab": {
          "base_uri": "https://localhost:8080/"
        },
        "id": "9Axf03Jhspri",
        "outputId": "af237672-ea72-49eb-acfb-ad827b3cac07"
      },
      "source": [
        "model_keras.compile(\n",
        "    loss=keras.losses.SparseCategoricalCrossentropy(from_logits = True),\n",
        "    optimizer='adam',\n",
        "    metrics=['accuracy'])\n",
        "\n",
        "CNNhistory = LossHistory()\n",
        "model_keras.fit(x_train, Y_train, epochs = 50, validation_split = 0.1, callbacks = [CNNhistory])\n",
        "score = model_keras.evaluate(x_test, Y_test, verbose = 0)\n",
        "print('Test score:', score[0])\n",
        "\n",
        "print('Test accuracy:', score[1])"
      ],
      "execution_count": null,
      "outputs": [
        {
          "output_type": "stream",
          "name": "stdout",
          "text": [
            "Epoch 1/50\n",
            "18/18 [==============================] - 3s 118ms/step - loss: 2.1978 - accuracy: 0.2622 - val_loss: 2.3010 - val_accuracy: 0.0938\n",
            "Epoch 2/50\n",
            "18/18 [==============================] - 2s 108ms/step - loss: 2.0552 - accuracy: 0.4201 - val_loss: 2.3002 - val_accuracy: 0.0938\n",
            "Epoch 3/50\n",
            "18/18 [==============================] - 2s 107ms/step - loss: 1.9750 - accuracy: 0.4861 - val_loss: 2.2988 - val_accuracy: 0.0938\n",
            "Epoch 4/50\n",
            "18/18 [==============================] - 2s 109ms/step - loss: 1.9211 - accuracy: 0.5451 - val_loss: 2.2974 - val_accuracy: 0.0938\n",
            "Epoch 5/50\n",
            "18/18 [==============================] - 3s 153ms/step - loss: 1.8808 - accuracy: 0.5833 - val_loss: 2.2962 - val_accuracy: 0.0938\n",
            "Epoch 6/50\n",
            "18/18 [==============================] - 2s 117ms/step - loss: 1.7771 - accuracy: 0.6962 - val_loss: 2.2946 - val_accuracy: 0.1406\n",
            "Epoch 7/50\n",
            "18/18 [==============================] - 2s 108ms/step - loss: 1.7407 - accuracy: 0.7257 - val_loss: 2.2917 - val_accuracy: 0.2344\n",
            "Epoch 8/50\n",
            "18/18 [==============================] - 2s 107ms/step - loss: 1.7269 - accuracy: 0.7309 - val_loss: 2.2899 - val_accuracy: 0.2656\n",
            "Epoch 9/50\n",
            "18/18 [==============================] - 2s 107ms/step - loss: 1.6536 - accuracy: 0.8160 - val_loss: 2.2849 - val_accuracy: 0.2188\n",
            "Epoch 10/50\n",
            "18/18 [==============================] - 2s 107ms/step - loss: 1.6119 - accuracy: 0.8524 - val_loss: 2.2812 - val_accuracy: 0.1406\n",
            "Epoch 11/50\n",
            "18/18 [==============================] - 2s 108ms/step - loss: 1.6037 - accuracy: 0.8576 - val_loss: 2.2763 - val_accuracy: 0.1562\n",
            "Epoch 12/50\n",
            "18/18 [==============================] - 2s 107ms/step - loss: 1.6015 - accuracy: 0.8576 - val_loss: 2.2712 - val_accuracy: 0.1562\n",
            "Epoch 13/50\n",
            "18/18 [==============================] - 2s 107ms/step - loss: 1.6006 - accuracy: 0.8576 - val_loss: 2.2643 - val_accuracy: 0.2031\n",
            "Epoch 14/50\n",
            "18/18 [==============================] - 2s 108ms/step - loss: 1.5999 - accuracy: 0.8576 - val_loss: 2.2564 - val_accuracy: 0.2188\n",
            "Epoch 15/50\n",
            "18/18 [==============================] - 2s 106ms/step - loss: 1.5995 - accuracy: 0.8576 - val_loss: 2.2468 - val_accuracy: 0.2344\n",
            "Epoch 16/50\n",
            "18/18 [==============================] - 2s 107ms/step - loss: 1.5994 - accuracy: 0.8576 - val_loss: 2.2358 - val_accuracy: 0.2656\n",
            "Epoch 17/50\n",
            "18/18 [==============================] - 2s 108ms/step - loss: 1.5991 - accuracy: 0.8576 - val_loss: 2.2233 - val_accuracy: 0.2812\n",
            "Epoch 18/50\n",
            "18/18 [==============================] - 2s 107ms/step - loss: 1.5986 - accuracy: 0.8576 - val_loss: 2.2074 - val_accuracy: 0.3281\n",
            "Epoch 19/50\n",
            "18/18 [==============================] - 2s 108ms/step - loss: 1.5987 - accuracy: 0.8576 - val_loss: 2.1869 - val_accuracy: 0.3281\n",
            "Epoch 20/50\n",
            "18/18 [==============================] - 2s 108ms/step - loss: 1.5717 - accuracy: 0.8941 - val_loss: 2.1654 - val_accuracy: 0.3594\n",
            "Epoch 21/50\n",
            "18/18 [==============================] - 2s 107ms/step - loss: 1.5425 - accuracy: 0.9253 - val_loss: 2.0663 - val_accuracy: 0.4688\n",
            "Epoch 22/50\n",
            "18/18 [==============================] - 2s 108ms/step - loss: 1.4883 - accuracy: 0.9861 - val_loss: 1.9865 - val_accuracy: 0.6250\n",
            "Epoch 23/50\n",
            "18/18 [==============================] - 2s 108ms/step - loss: 1.4741 - accuracy: 0.9913 - val_loss: 1.9174 - val_accuracy: 0.6562\n",
            "Epoch 24/50\n",
            "18/18 [==============================] - 2s 107ms/step - loss: 1.4696 - accuracy: 0.9948 - val_loss: 1.9234 - val_accuracy: 0.5781\n",
            "Epoch 25/50\n",
            "18/18 [==============================] - 2s 107ms/step - loss: 1.4642 - accuracy: 0.9983 - val_loss: 1.8542 - val_accuracy: 0.6875\n",
            "Epoch 26/50\n",
            "18/18 [==============================] - 2s 108ms/step - loss: 1.4634 - accuracy: 0.9983 - val_loss: 1.8072 - val_accuracy: 0.7500\n",
            "Epoch 27/50\n",
            "18/18 [==============================] - 2s 109ms/step - loss: 1.4633 - accuracy: 0.9983 - val_loss: 1.7654 - val_accuracy: 0.7969\n",
            "Epoch 28/50\n",
            "18/18 [==============================] - 2s 107ms/step - loss: 1.4632 - accuracy: 0.9983 - val_loss: 1.7287 - val_accuracy: 0.8281\n",
            "Epoch 29/50\n",
            "18/18 [==============================] - 2s 108ms/step - loss: 1.4632 - accuracy: 0.9983 - val_loss: 1.6912 - val_accuracy: 0.8906\n",
            "Epoch 30/50\n",
            "18/18 [==============================] - 2s 108ms/step - loss: 1.4632 - accuracy: 0.9983 - val_loss: 1.6563 - val_accuracy: 0.9219\n",
            "Epoch 31/50\n",
            "18/18 [==============================] - 2s 107ms/step - loss: 1.4631 - accuracy: 0.9983 - val_loss: 1.6259 - val_accuracy: 0.9219\n",
            "Epoch 32/50\n",
            "18/18 [==============================] - 2s 108ms/step - loss: 1.4631 - accuracy: 0.9983 - val_loss: 1.5995 - val_accuracy: 0.9219\n",
            "Epoch 33/50\n",
            "18/18 [==============================] - 2s 109ms/step - loss: 1.4631 - accuracy: 0.9983 - val_loss: 1.5830 - val_accuracy: 0.9375\n",
            "Epoch 34/50\n",
            "18/18 [==============================] - 2s 108ms/step - loss: 1.4631 - accuracy: 0.9983 - val_loss: 1.5697 - val_accuracy: 0.9375\n",
            "Epoch 35/50\n",
            "18/18 [==============================] - 2s 108ms/step - loss: 1.4630 - accuracy: 0.9983 - val_loss: 1.5581 - val_accuracy: 0.9375\n",
            "Epoch 36/50\n",
            "18/18 [==============================] - 2s 106ms/step - loss: 1.4631 - accuracy: 0.9983 - val_loss: 1.5502 - val_accuracy: 0.9375\n",
            "Epoch 37/50\n",
            "18/18 [==============================] - 2s 108ms/step - loss: 1.4630 - accuracy: 0.9983 - val_loss: 1.5437 - val_accuracy: 0.9375\n",
            "Epoch 38/50\n",
            "18/18 [==============================] - 2s 108ms/step - loss: 1.4630 - accuracy: 0.9983 - val_loss: 1.5388 - val_accuracy: 0.9375\n",
            "Epoch 39/50\n",
            "18/18 [==============================] - 2s 109ms/step - loss: 1.4630 - accuracy: 0.9983 - val_loss: 1.5346 - val_accuracy: 0.9375\n",
            "Epoch 40/50\n",
            "18/18 [==============================] - 2s 107ms/step - loss: 1.4630 - accuracy: 0.9983 - val_loss: 1.5311 - val_accuracy: 0.9375\n",
            "Epoch 41/50\n",
            "18/18 [==============================] - 2s 108ms/step - loss: 1.4628 - accuracy: 0.9983 - val_loss: 1.5291 - val_accuracy: 0.9531\n",
            "Epoch 42/50\n",
            "18/18 [==============================] - 2s 108ms/step - loss: 1.4615 - accuracy: 1.0000 - val_loss: 1.5474 - val_accuracy: 0.9375\n",
            "Epoch 43/50\n",
            "18/18 [==============================] - 2s 110ms/step - loss: 1.4614 - accuracy: 1.0000 - val_loss: 1.5267 - val_accuracy: 0.9375\n",
            "Epoch 44/50\n",
            "18/18 [==============================] - 2s 110ms/step - loss: 1.4613 - accuracy: 1.0000 - val_loss: 1.5281 - val_accuracy: 0.9375\n",
            "Epoch 45/50\n",
            "18/18 [==============================] - 2s 106ms/step - loss: 1.4613 - accuracy: 1.0000 - val_loss: 1.5257 - val_accuracy: 0.9375\n",
            "Epoch 46/50\n",
            "18/18 [==============================] - 2s 107ms/step - loss: 1.4613 - accuracy: 1.0000 - val_loss: 1.5253 - val_accuracy: 0.9375\n",
            "Epoch 47/50\n",
            "18/18 [==============================] - 2s 108ms/step - loss: 1.4613 - accuracy: 1.0000 - val_loss: 1.5255 - val_accuracy: 0.9375\n",
            "Epoch 48/50\n",
            "18/18 [==============================] - 2s 107ms/step - loss: 1.4613 - accuracy: 1.0000 - val_loss: 1.5236 - val_accuracy: 0.9375\n",
            "Epoch 49/50\n",
            "18/18 [==============================] - 2s 108ms/step - loss: 1.4613 - accuracy: 1.0000 - val_loss: 1.5224 - val_accuracy: 0.9375\n",
            "Epoch 50/50\n",
            "18/18 [==============================] - 2s 107ms/step - loss: 1.4613 - accuracy: 1.0000 - val_loss: 1.5220 - val_accuracy: 0.9375\n",
            "Test score: 1.5390045642852783\n",
            "Test accuracy: 0.9312499761581421\n"
          ]
        }
      ]
    },
    {
      "cell_type": "code",
      "source": [
        "CNNloss = CNNhistory.losses\n",
        "PlotLoss(CNNloss, \"CNN model\")"
      ],
      "metadata": {
        "colab": {
          "base_uri": "https://localhost:8080/",
          "height": 643
        },
        "id": "_GxdOK2q9JVu",
        "outputId": "c2c288d8-8396-44ce-a13c-392e7f21a9fa"
      },
      "execution_count": null,
      "outputs": [
        {
          "output_type": "display_data",
          "data": {
            "image/png": "[encoded data removed]",
            "text/plain": [
              "<Figure size 1440x720 with 1 Axes>"
            ]
          },
          "metadata": {
            "needs_background": "light"
          }
        }
      ]
    },
    {
      "cell_type": "markdown",
      "metadata": {
        "id": "k1KCdmb8620E"
      },
      "source": [
        "# Model quantization"
      ]
    },
    {
      "cell_type": "code",
      "source": [
        "model_quantized = quantize(model_keras,\n",
        "                           input_weight_quantization = 8,\n",
        "                           weight_quantization = 4,\n",
        "                           activ_quantization = 4)\n",
        "model_quantized.summary()"
      ],
      "metadata": {
        "colab": {
          "base_uri": "https://localhost:8080/"
        },
        "id": "dKepLSCosUbV",
        "outputId": "99968838-6476-4d64-8733-8aee6bb77550"
      },
      "execution_count": null,
      "outputs": [
        {
          "output_type": "stream",
          "name": "stdout",
          "text": [
            "Model: \"EarBuds\"\n",
            "_________________________________________________________________\n",
            "Layer (type)                 Output Shape              Param #   \n",
            "=================================================================\n",
            "conv2d_2 (QuantizedConv2D)   (None, 11, 219, 32)       320       \n",
            "_________________________________________________________________\n",
            "max_pooling2d_2 (MaxPooling2 (None, 5, 109, 32)        0         \n",
            "_________________________________________________________________\n",
            "re_lu_3 (ActivationDiscreteR (None, 5, 109, 32)        0         \n",
            "_________________________________________________________________\n",
            "conv2d_3 (QuantizedConv2D)   (None, 5, 109, 64)        18496     \n",
            "_________________________________________________________________\n",
            "re_lu_4 (ActivationDiscreteR (None, 5, 109, 64)        0         \n",
            "_________________________________________________________________\n",
            "separable_conv2d_1 (Quantize (None, 5, 109, 32)        2656      \n",
            "_________________________________________________________________\n",
            "max_pooling2d_3 (MaxPooling2 (None, 3, 55, 32)         0         \n",
            "_________________________________________________________________\n",
            "re_lu_5 (ActivationDiscreteR (None, 3, 55, 32)         0         \n",
            "_________________________________________________________________\n",
            "flatten_1 (Flatten)          (None, 5280)              0         \n",
            "_________________________________________________________________\n",
            "dense_1 (QuantizedDense)     (None, 10)                52810     \n",
            "_________________________________________________________________\n",
            "softmax_1 (Softmax)          (None, 10)                0         \n",
            "=================================================================\n",
            "Total params: 74,282\n",
            "Trainable params: 74,282\n",
            "Non-trainable params: 0\n",
            "_________________________________________________________________\n"
          ]
        }
      ]
    },
    {
      "cell_type": "markdown",
      "metadata": {
        "id": "_1qmjXQj7ssx"
      },
      "source": [
        "# Quantized model accuracy"
      ]
    },
    {
      "cell_type": "code",
      "metadata": {
        "id": "h_1bsYXj7vWj",
        "colab": {
          "base_uri": "https://localhost:8080/"
        },
        "outputId": "a53d15ca-cd36-478c-e022-cc72dd73fb99"
      },
      "source": [
        "model_quantized.compile(\n",
        "    loss=keras.losses.SparseCategoricalCrossentropy(from_logits = True),\n",
        "    optimizer='adam',\n",
        "    metrics=['accuracy'])\n",
        "\n",
        "score = model_quantized.evaluate(x_test, Y_test, verbose = 0)\n",
        "print('Test accuracy after 8-4-4 quantization:', score[1])\n"
      ],
      "execution_count": null,
      "outputs": [
        {
          "output_type": "stream",
          "name": "stdout",
          "text": [
            "Test accuracy after 8-4-4 quantization: 0.9375\n"
          ]
        }
      ]
    },
    {
      "cell_type": "markdown",
      "source": [
        "# Individual quantizations of layers\n",
        " Will save space which is a key factor to keep model small and fast, but can have negative effect on performance."
      ],
      "metadata": {
        "id": "raKNiNlb9Vag"
      }
    },
    {
      "cell_type": "code",
      "source": [
        "model_quantized = quantize_layer(model_quantized, \"re_lu_3\", bitwidth = 2)\n",
        "model_quantized = quantize_layer(model_quantized, \"re_lu_4\", bitwidth = 2)\n",
        "model_quantized = quantize_layer(model_quantized, \"re_lu_5\", bitwidth = 2)  \n",
        "# model_quantized = quantize_layer(model_quantized, \"dense\", bitwidth = 2)   # Using low bit on dense level decreases performance too much (accuracy = 0.26)\n",
        "model_quantized = quantize_layer(model_quantized, \"dense_1\", bitwidth = 4)\n",
        "\n",
        "model_quantized.compile(\n",
        "    loss=keras.losses.SparseCategoricalCrossentropy(from_logits = True),\n",
        "    optimizer='adam',\n",
        "    metrics=['accuracy'])\n",
        "\n",
        "score = model_quantized.evaluate(x_test, Y_test, verbose = 0)\n",
        "print('Test accuracy after low bitwidth quantization:', score[1])"
      ],
      "metadata": {
        "colab": {
          "base_uri": "https://localhost:8080/"
        },
        "id": "MD_k98uv7F7w",
        "outputId": "3a0d3073-3168-4bed-d1f5-a3fadfddb1a2"
      },
      "execution_count": null,
      "outputs": [
        {
          "output_type": "stream",
          "name": "stdout",
          "text": [
            "Test accuracy after low bitwidth quantization: 0.893750011920929\n"
          ]
        }
      ]
    },
    {
      "cell_type": "markdown",
      "source": [
        "# Tuning after layer quantification"
      ],
      "metadata": {
        "id": "b2D1J46f94O8"
      }
    },
    {
      "cell_type": "code",
      "source": [
        "SNNhistory = LossHistory()\n",
        "model_quantized.fit(x_train, Y_train, epochs = 10, validation_split = 0.1, callbacks = [SNNhistory])\n",
        "\n",
        "score = model_quantized.evaluate(x_test, Y_test, verbose=0)\n",
        "print('Test accuracy after fine tuning:', score[1])"
      ],
      "metadata": {
        "colab": {
          "base_uri": "https://localhost:8080/"
        },
        "id": "4tkONcXe98a3",
        "outputId": "7d097976-fe8e-448c-e9f4-75a29a4e1135"
      },
      "execution_count": null,
      "outputs": [
        {
          "output_type": "stream",
          "name": "stdout",
          "text": [
            "Epoch 1/10\n",
            "18/18 [==============================] - 3s 112ms/step - loss: 1.4692 - accuracy: 0.9948 - val_loss: 1.5770 - val_accuracy: 0.8906\n",
            "Epoch 2/10\n",
            "18/18 [==============================] - 2s 112ms/step - loss: 1.4642 - accuracy: 0.9983 - val_loss: 1.5692 - val_accuracy: 0.8906\n",
            "Epoch 3/10\n",
            "18/18 [==============================] - 2s 111ms/step - loss: 1.4622 - accuracy: 1.0000 - val_loss: 1.5478 - val_accuracy: 0.9375\n",
            "Epoch 4/10\n",
            "18/18 [==============================] - 2s 112ms/step - loss: 1.4621 - accuracy: 1.0000 - val_loss: 1.5372 - val_accuracy: 0.9375\n",
            "Epoch 5/10\n",
            "18/18 [==============================] - 2s 111ms/step - loss: 1.4612 - accuracy: 1.0000 - val_loss: 1.5366 - val_accuracy: 0.9219\n",
            "Epoch 6/10\n",
            "18/18 [==============================] - 2s 110ms/step - loss: 1.4612 - accuracy: 1.0000 - val_loss: 1.5378 - val_accuracy: 0.9219\n",
            "Epoch 7/10\n",
            "18/18 [==============================] - 2s 109ms/step - loss: 1.4612 - accuracy: 1.0000 - val_loss: 1.5329 - val_accuracy: 0.9219\n",
            "Epoch 8/10\n",
            "18/18 [==============================] - 3s 157ms/step - loss: 1.4612 - accuracy: 1.0000 - val_loss: 1.5298 - val_accuracy: 0.9219\n",
            "Epoch 9/10\n",
            "18/18 [==============================] - 2s 112ms/step - loss: 1.4612 - accuracy: 1.0000 - val_loss: 1.5328 - val_accuracy: 0.9219\n",
            "Epoch 10/10\n",
            "18/18 [==============================] - 2s 111ms/step - loss: 1.4612 - accuracy: 1.0000 - val_loss: 1.5335 - val_accuracy: 0.9375\n",
            "Test accuracy after fine tuning: 0.949999988079071\n"
          ]
        }
      ]
    },
    {
      "cell_type": "code",
      "source": [
        "PlotLoss(SNNhistory.losses, \"SNN model\")"
      ],
      "metadata": {
        "colab": {
          "base_uri": "https://localhost:8080/",
          "height": 643
        },
        "id": "Tno33_L7GI7y",
        "outputId": "84076b75-53cc-44cd-e340-98bfe619654b"
      },
      "execution_count": null,
      "outputs": [
        {
          "output_type": "display_data",
          "data": {
            "image/png": "[encoded data removed]",
            "text/plain": [
              "<Figure size 1440x720 with 1 Axes>"
            ]
          },
          "metadata": {
            "needs_background": "light"
          }
        }
      ]
    },
    {
      "cell_type": "markdown",
      "source": [
        "# Convert quantized model to Akida format"
      ],
      "metadata": {
        "id": "nR-MOecM0f64"
      }
    },
    {
      "cell_type": "code",
      "source": [
        "model_akida = convert(model_quantized, input_scaling = input_scaling)\n",
        "model_akida.summary()"
      ],
      "metadata": {
        "colab": {
          "base_uri": "https://localhost:8080/"
        },
        "id": "zm8hPlD00R3Z",
        "outputId": "0f429c3e-738c-458f-f5a8-6d1d15613585"
      },
      "execution_count": null,
      "outputs": [
        {
          "output_type": "stream",
          "name": "stdout",
          "text": [
            "                 Model Summary                 \n",
            "_______________________________________________\n",
            "Input shape   Output shape  Sequences  Layers\n",
            "===============================================\n",
            "[13, 221, 1]  [1, 1, 10]    1          4     \n",
            "_______________________________________________\n",
            "\n",
            "                  SW/conv2d-dense (Software)                  \n",
            "______________________________________________________________\n",
            "Layer (type)                  Output shape  Kernel shape    \n",
            "==============================================================\n",
            "conv2d (InputConv.)           [109, 5, 32]  (3, 3, 1, 32)   \n",
            "______________________________________________________________\n",
            "conv2d_1 (Conv.)              [109, 5, 64]  (3, 3, 32, 64)  \n",
            "______________________________________________________________\n",
            "separable_conv2d (Sep.Conv.)  [55, 3, 32]   (3, 3, 64, 1)   \n",
            "______________________________________________________________\n",
            "                                            (1, 1, 64, 32)  \n",
            "______________________________________________________________\n",
            "dense (Fully.)                [1, 1, 10]    (1, 1, 5280, 10)\n",
            "______________________________________________________________\n",
            "\n"
          ]
        }
      ]
    }
  ]
}